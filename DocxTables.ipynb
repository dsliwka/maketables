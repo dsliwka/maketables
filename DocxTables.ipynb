{
 "cells": [
  {
   "cell_type": "raw",
   "id": "b537a80c",
   "metadata": {},
   "source": [
    "---\n",
    "format: html\n",
    "---\n",
    "\n",
    "\n",
    "\n",
    "<div style=\"width: 100%; height:800\">\n",
    "<iframe src=\"docs/WordOutput.pdf\" width=\"100%\" height=\"800\">\n",
    "Please click on the icon on the top right to download the CV if it does not show up in your browser. \n",
    "</iframe>\n",
    "</div>"
   ]
  }
 ],
 "metadata": {
  "language_info": {
   "name": "python"
  }
 },
 "nbformat": 4,
 "nbformat_minor": 5
}
