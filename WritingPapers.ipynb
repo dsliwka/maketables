{
 "cells": [
  {
   "cell_type": "raw",
   "id": "b537a80c",
   "metadata": {
    "vscode": {
     "languageId": "raw"
    }
   },
   "source": [
    "---\n",
    "format: html\n",
    "---\n"
   ]
  },
  {
   "cell_type": "markdown",
   "id": "3c4b1da3",
   "metadata": {},
   "source": [
    "# Writing Papers with Jupyter Notebooks and Quarto\n",
    "A very convenient way to write academic papers which include the code for all reported analyses is to use Jupyter notebooks together with [Quarto](https://quarto.org/). Quarto is a scientific publishing system that allows you to combine text, code, and results in a single document. Quarto will render Jupyter notebooks to PDF using LaTeX. When you include tables created with MakeTables in your notebook, they will be rendered directly on the screen in the notebook (as HTML via [Great Tables](https://posit-dev.github.io/great-tables/articles/intro.html)) but will be rendered as LaTeX tables in the final PDF document by Quarto. You can include analyses using different packages, in particular [pyfixest](https://py-econometrics.github.io/pyfixest/pyfixest.html) or [statsmodels](https://www.statsmodels.org/stable/index.html) or even Stata.\n",
    "\n",
    "\n",
    "# An Example Notebook\n",
    "\n",
    "Here is an example of a Jupyter notebook rendered to a PDF with Quarto. You can download this notebook with [quartoExample.ipynb](https://github.com/dsliwka/maketables/blob/main/docs/quartoExample.ipynb). The BibTeX file with references is [references.bib](docs/references.bib). Just render the notebook with `quarto render quartoExample.ipynb` to create the PDF document.\n",
    "\n"
   ]
  },
  {
   "cell_type": "raw",
   "id": "b651d49e",
   "metadata": {
    "vscode": {
     "languageId": "raw"
    }
   },
   "source": [
    "<div style=\"width: 100%; height:800\">\n",
    "<iframe src=\"docs/quartoExample.pdf\" width=\"100%\" height=\"800\">\n",
    "Please click on the icon on the top right to download the CV if it does not show up in your browser. \n",
    "</iframe>\n",
    "</div>"
   ]
  }
 ],
 "metadata": {
  "kernelspec": {
   "display_name": ".venv",
   "language": "python",
   "name": "python3"
  },
  "language_info": {
   "codemirror_mode": {
    "name": "ipython",
    "version": 3
   },
   "file_extension": ".py",
   "mimetype": "text/x-python",
   "name": "python",
   "nbconvert_exporter": "python",
   "pygments_lexer": "ipython3",
   "version": "3.13.7"
  }
 },
 "nbformat": 4,
 "nbformat_minor": 5
}
