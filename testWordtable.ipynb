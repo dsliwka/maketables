{
 "cells": [
  {
   "cell_type": "code",
   "execution_count": 7,
   "metadata": {},
   "outputs": [],
   "source": [
    "import numpy as np\n",
    "import pandas as pd\n",
    "import pyfixest as pf\n",
    "from IPython.display import display, FileLink\n",
    "from tabout import TabOut\n",
    "\n",
    "# Create a multiindex dataframe with random data\n",
    "row_index = pd.MultiIndex.from_tuples(\n",
    "    [\n",
    "        (\"Gr 1\", \"Var 1\"),\n",
    "        (\"Gr 1\", \"Var 2\"),\n",
    "        (\"Gr 1\", \"Var 3\"),\n",
    "        (\"Gr 2\", \"Var 4\"),\n",
    "        (\"Gr 2\", \"Var 5\"),\n",
    "        (\"Gr 3\", \"Var 6\"),\n",
    "    ]\n",
    ")\n",
    "\n",
    "col_index = pd.MultiIndex.from_product([[\"Hello\", \"There\"], [\"France\", \"US\"], [\"High\", \"Low\"]])\n",
    "df = pd.DataFrame(np.random.randn(6, 8).round(3), index=row_index, columns=col_index)\n",
    "\n",
    "\n",
    "tab = TabOut(df, notes=\"Sample very new notes!\", caption=\"The first table\", tab_label=\"tab_sample_1\")\n",
    "\n",
    "# Generate table\n",
    "# tab.make()\n",
    "\n",
    "# Save table\n",
    "# tab.save(type=\"docx\", file_name=\"C:/PythonProjects/tabout/test_tab1\", replace=True)\n",
    "\n",
    "# Update word document with table\n",
    "tab.update_docx(file_name=\"C:/PythonProjects/tabout/PaperTest.docx\", tab_num=1, show=False)\n",
    "\n",
    "#pf.make_table(df=df, caption=\"This is table 7!\", notes=\"These are brand new notes\", type=\"docx\", \n",
    "#          file_name=\"C:/PythonProjects/pyfixestStore/test.docx\", tab_num=7)"
   ]
  },
  {
   "cell_type": "code",
   "execution_count": 2,
   "metadata": {},
   "outputs": [],
   "source": [
    "# Create a simple index dataframe with random data\n",
    "simple_index = ['Var 1', 'Var 2', 'Var 3', 'Var 4', 'Var 5', 'Var 6']\n",
    "simple_col_index = ['Hello', 'There', 'France', 'US', 'High', 'Low', 'Extra1', 'Extra2']\n",
    "df = pd.DataFrame(np.random.randn(6, 8).round(3), index=simple_index, columns=simple_col_index)\n",
    "tab_out = TabOut(df, notes=\"Sample notes\", caption=\"Sample Table 1\", tab_label=\"tab_sample\")\n",
    "\n",
    "# Generate tables in different formats\n",
    "##tab_out.make(types=[\"gt\", \"docx\"], path=\"C:/PythonProjects/pyregtable/\")\n",
    "\n"
   ]
  }
 ],
 "metadata": {
  "kernelspec": {
   "display_name": "Python 3",
   "language": "python",
   "name": "python3"
  },
  "language_info": {
   "codemirror_mode": {
    "name": "ipython",
    "version": 3
   },
   "file_extension": ".py",
   "mimetype": "text/x-python",
   "name": "python",
   "nbconvert_exporter": "python",
   "pygments_lexer": "ipython3",
   "version": "3.12.0"
  }
 },
 "nbformat": 4,
 "nbformat_minor": 2
}
