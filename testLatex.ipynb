{
 "cells": [
  {
   "cell_type": "code",
   "execution_count": null,
   "metadata": {},
   "outputs": [
    {
     "data": {
      "text/html": [
       "<a href='docs/SampleTableDoc2.pdf' target='_blank'>docs/SampleTableDoc2.pdf</a><br>"
      ],
      "text/plain": [
       "c:\\PythonProjects\\tabout\\docs\\SampleTableDoc2.pdf"
      ]
     },
     "metadata": {},
     "output_type": "display_data"
    }
   ],
   "source": [
    "import numpy as np\n",
    "import pandas as pd\n",
    "import pyfixest as pf\n",
    "from IPython.display import display, FileLink\n",
    "from tabout import MTable,  DTable, ETable, BTable\n",
    "from IPython.display import FileLink\n",
    "import pylatex as pl \n",
    "\n",
    "# Use pylatex to create a tex file with the table\n",
    "def make_pdf(tab_or_tabs, file):\n",
    "    \"\"\"\n",
    "    Create a PDF document with one or more LaTeX tables.\n",
    "    Accepts a single table string or a list of table strings.\n",
    "    \"\"\"\n",
    "    doc = pl.Document()\n",
    "    doc.packages.append(pl.Package(\"booktabs\"))\n",
    "    doc.packages.append(pl.Package(\"threeparttable\"))\n",
    "    doc.packages.append(pl.Package(\"makecell\"))\n",
    "    doc.packages.append(pl.Package(\"tabularx\")) \n",
    "    doc.packages.append(pl.Package(\"array\"))\n",
    "\n",
    "    if not isinstance(tab_or_tabs, list):\n",
    "        tab_or_tabs = [tab_or_tabs]\n",
    "\n",
    "    with doc.create(pl.Section(\"PyFixest LaTeX Tables\")):\n",
    "        for i, tab in enumerate(tab_or_tabs, 1):\n",
    "            with doc.create(pl.Table(position=\"htbp\")) as table:\n",
    "                table.append(pl.NoEscape(tab))\n",
    "\n",
    "    doc.generate_pdf(file, clean_tex=False)\n",
    "\n",
    "# Create a multiindex dataframe with random data\n",
    "row_index = pd.MultiIndex.from_tuples(\n",
    "    [\n",
    "        (\"Gr 1\", \"Var 1\"),\n",
    "        (\"Gr 1\", \"Var 2\"),\n",
    "        (\"Gr 1\", \"Var 3\"),\n",
    "        (\"Gr 2\", \"Var 4\"),\n",
    "        (\"Gr 2\", \"Var 5\"),\n",
    "        (\"Gr 3\", \"Var 6\"),\n",
    "    ]\n",
    ")\n",
    "\n",
    "dfa = pd.DataFrame(\n",
    "    np.random.randn(6, 2).round(2),\n",
    "    index=[\"Var 1\", \"Var 2\", \"Var 3\", \"Var 4\", \"Var 5\", \"Var 6\"],\n",
    "    columns=[\"Hello\", \"There\"]\n",
    ")\n",
    "tabs=[]\n",
    "tabs.append(MTable(dfa).make(type=\"tex\", tab_width=\"linewidth\"))\n",
    "tabs.append(MTable(dfa).make(type=\"tex\", tab_width=\"10cm\"))\n",
    "tabs.append(MTable(dfa).make(type=\"tex\", tab_width=r\"0.8\\textwidth\"))\n",
    "\n",
    "# Compile latex to pdf & display a button with the hyperlink to the pdf\n",
    "make_pdf(tabs, \"docs/SampleTableDoc2\")\n",
    "display(FileLink(\"docs/SampleTableDoc2.pdf\"))\n"
   ]
  },
  {
   "cell_type": "code",
   "execution_count": 2,
   "metadata": {},
   "outputs": [],
   "source": [
    "n=500\n",
    "df1 = pd.DataFrame(index=range(n))\n",
    "df1['ability'] = np.random.normal(100, 15, n)\n",
    "df1['year'] = 1\n",
    "# This is a number identifying each person in the data set\n",
    "df1['persnr'] = df1.index\n",
    "# Add age\n",
    "df1['age'] = np.random.randint(18, 60, n)\n",
    "# Add city cluster: assign each person to a city (e.g., 20 cities)\n",
    "n_cities = 20\n",
    "city_names = [f'City_{i+1}' for i in range(n_cities)]\n",
    "df1['city'] = np.random.choice(city_names, size=n)\n",
    "# Generate city-specific effects\n",
    "city_effects = {city: np.random.normal(0, 2000) for city in city_names}\n",
    "# Randomize three treatment groups (0, 1, 2)\n",
    "df1['tgroup'] = np.random.choice([0, 1, 2], size=n, p=[1/3, 1/3, 1/3])\n",
    "# Copy the DataFrame to create second year observations stored in df2\n",
    "df2 = df1.copy()\n",
    "df2['year'] = 2\n",
    "df2['age'] = df2['age'] + 1\n",
    "# Training only in the treatment group and only in year 2:\n",
    "df1['training'] = 0\n",
    "df2['training'] = (df2.tgroup > 0).astype(int)\n",
    "# Generate DataFrame that spans both years combining the two:\n",
    "# Note for each person we have two rows, one for each year\n",
    "df = pd.concat([df1, df2], sort=False)\n",
    "# Generate sales as before\n",
    "# but add a year effect: sales increase by 4000 Euro between years 1 and 2\n",
    "# and different treatment effects for each group\n",
    "# and a city-specific effect\n",
    "df['sales'] = (\n",
    "    10000\n",
    "    + (df.tgroup == 1) * 5000\n",
    "    + (df.tgroup == 2) * 8000\n",
    "    + df.training * 2000\n",
    "    + df.ability * 100\n",
    "    + df.year * 4000\n",
    "    + df['city'].map(city_effects)\n",
    "    + np.random.normal(0, 4000, 2 * n)\n",
    " )\n",
    "\n",
    "labels = {\"ability\": \"Ability (test score)\",\n",
    "    \"sales\": \"Sales\",\n",
    "    \"year\": \"Year\",\n",
    "    \"age\": \"Age\",\n",
    "    \"tgroup\": \"Treatment Group\",\n",
    "    \"city\": \"City\",}\n",
    "\n",
    "df[\"tgroup\"] = pd.Categorical(df[\"tgroup\"], categories=[0, 1, 2], ordered=True)\n",
    "df[\"tgroup\"] = df[\"tgroup\"].cat.rename_categories([\"Control\", \"Treatment 1\", \"Treatment 2\"])\n"
   ]
  },
  {
   "cell_type": "code",
   "execution_count": 3,
   "metadata": {},
   "outputs": [],
   "source": [
    "tab2=BTable(df[(df.year==1)], vars=[\"ability\",\"age\"], \n",
    "            group=\"tgroup\", labels=labels, stats=[\"mean\",\"std\"] , digits=2,\n",
    "            caption=\"Balance Table for Year 1\", tab_label=\"tab_2\")\n",
    "tab2.update_docx(file_name=\"C:/PythonProjects/tabout/docs/PaperTest1.docx\", tab_num=2, show=False)"
   ]
  },
  {
   "cell_type": "code",
   "execution_count": 4,
   "metadata": {},
   "outputs": [],
   "source": [
    "est=pf.feols(\"sales ~ ability + csw(age, training) | year + city\", data=df)\n",
    "tab3 = ETable(est, labels=labels, model_stats=[\"N\",\"r2\",\"r2_within\"],\n",
    "              caption=\"Regression Results\", tab_label=\"tab_3\")\n",
    "tab3.update_docx(file_name=\"C:/PythonProjects/tabout/docs/PaperTest1.docx\", tab_num=3, show=False)"
   ]
  },
  {
   "cell_type": "code",
   "execution_count": 5,
   "metadata": {},
   "outputs": [],
   "source": [
    "import statsmodels.formula.api as smf\n",
    "\n",
    "reg=smf.ols(\"sales ~ ability + age + training\", data=df).fit()\n",
    "tab4 = ETable(reg, labels=labels, model_stats=[\"N\",\"r2\",\"adj_r2\",\"se_type\"],\n",
    "              caption=\"Regression Results Statsmodels\", tab_label=\"tab_4\")\n",
    "tab4.update_docx(file_name=\"C:/PythonProjects/tabout/docs/PaperTest1.docx\", tab_num=4, show=False)\n"
   ]
  },
  {
   "cell_type": "code",
   "execution_count": 6,
   "metadata": {},
   "outputs": [],
   "source": [
    "tab5=DTable(df, vars=[\"sales\",\"ability\",\"age\"], bycol=[\"tgroup\"], byrow=\"year\",\n",
    "             stats=[\"mean_newline_std\"], counts_row_below=True, hide_stats=True, labels=labels, caption=\"Descriptive Statistics by Treatment Group and Year\",\n",
    "             tab_label=\"tab_5\")\n",
    "tab5.update_docx(file_name=\"C:/PythonProjects/tabout/docs/PaperTest1.docx\", tab_num=5, show=False)\n"
   ]
  },
  {
   "cell_type": "code",
   "execution_count": null,
   "metadata": {},
   "outputs": [],
   "source": []
  }
 ],
 "metadata": {
  "kernelspec": {
   "display_name": "Python 3",
   "language": "python",
   "name": "python3"
  },
  "language_info": {
   "codemirror_mode": {
    "name": "ipython",
    "version": 3
   },
   "file_extension": ".py",
   "mimetype": "text/x-python",
   "name": "python",
   "nbconvert_exporter": "python",
   "pygments_lexer": "ipython3",
   "version": "3.12.0"
  }
 },
 "nbformat": 4,
 "nbformat_minor": 2
}
