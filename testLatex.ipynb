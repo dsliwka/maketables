{
 "cells": [
  {
   "cell_type": "code",
   "execution_count": null,
   "metadata": {},
   "outputs": [
    {
     "data": {
      "text/html": [
       "<a href='docs/SampleTableDoc2.pdf' target='_blank'>docs/SampleTableDoc2.pdf</a><br>"
      ],
      "text/plain": [
       "c:\\PythonProjects\\tabout\\docs\\SampleTableDoc2.pdf"
      ]
     },
     "metadata": {},
     "output_type": "display_data"
    }
   ],
   "source": [
    "import numpy as np\n",
    "import pandas as pd\n",
    "import pyfixest as pf\n",
    "from IPython.display import display, FileLink\n",
    "from tabout import MTable,  DTable, ETable, BTable\n",
    "from IPython.display import FileLink\n",
    "import pylatex as pl \n",
    "\n",
    "# Use pylatex to create a tex file with the table\n",
    "def make_pdf(tab_or_tabs, file):\n",
    "    \"\"\"\n",
    "    Create a PDF document with one or more LaTeX tables.\n",
    "    Accepts a single table string or a list of table strings.\n",
    "    \"\"\"\n",
    "    doc = pl.Document()\n",
    "    doc.packages.append(pl.Package(\"booktabs\"))\n",
    "    doc.packages.append(pl.Package(\"threeparttable\"))\n",
    "    doc.packages.append(pl.Package(\"makecell\"))\n",
    "    doc.packages.append(pl.Package(\"tabularx\")) \n",
    "    doc.packages.append(pl.Package(\"array\"))\n",
    "\n",
    "    if not isinstance(tab_or_tabs, list):\n",
    "        tab_or_tabs = [tab_or_tabs]\n",
    "\n",
    "    with doc.create(pl.Section(\"PyFixest LaTeX Tables\")):\n",
    "        for i, tab in enumerate(tab_or_tabs, 1):\n",
    "            with doc.create(pl.Table(position=\"htbp\")) as table:\n",
    "                table.append(pl.NoEscape(tab))\n",
    "\n",
    "    doc.generate_pdf(file, clean_tex=False)\n",
    "\n",
    "\n",
    "\n",
    "# Create a multiindex dataframe with random data\n",
    "row_index = pd.MultiIndex.from_tuples(\n",
    "    [\n",
    "        (\"Gr 1\", \"Var 1\"),\n",
    "        (\"Gr 1\", \"Var 2\"),\n",
    "        (\"Gr 1\", \"Var 3\"),\n",
    "        (\"Gr 2\", \"Var 4\"),\n",
    "        (\"Gr 2\", \"Var 5\"),\n",
    "        (\"Gr 3\", \"Var 6\"),\n",
    "    ]\n",
    ")\n",
    "\n",
    "col_index = pd.MultiIndex.from_product([[\"France\", \"US\"], [\"High\", \"Low\"]])\n",
    "dfa = pd.DataFrame(np.random.randn(6, 4).round(3), index=row_index, columns=col_index)\n",
    "\n",
    "\n",
    "tabs=[]\n",
    "tabs.append(MTable(dfa, notes=\"Test notes...\").make(type=\"tex\", tab_width=None))  \n",
    "tabs.append(\n",
    "    MTable(dfa).make(type=\"tex\", tab_width=\"linewidth\",\n",
    "                     tex_style={\n",
    "                                \"arraystretch\": 1,\n",
    "                                \"tabcolsep\": \"1pt\",\n",
    "                                \"x_col_align\": \"left\",\n",
    "                                \"data_align\": \"l\",\n",
    "                                \"header_addlinespace\": \"0ex\",\n",
    "                                \"data_addlinespace\": \"0ex\",\n",
    "                                \"group_header_format\": r\"\\bfseries %s\",\n",
    "                                \"notes_fontsize_cmd\": r\"\\footnotesize\",\n",
    "                            },)\n",
    "                    )\n",
    "#tabs.append(MTable(dfa).make(type=\"tex\", tab_width=\"10cm\"))\n",
    "#tabs.append(MTable(dfa).make(type=\"tex\", tab_width=r\"0.8\\textwidth\"))\n",
    "\n",
    "# Compile latex to pdf & display a button with the hyperlink to the pdf\n",
    "make_pdf(tabs, \"docs/SampleTableDoc2\")\n",
    "display(FileLink(\"docs/SampleTableDoc2.pdf\"))\n"
   ]
  }
 ],
 "metadata": {
  "kernelspec": {
   "display_name": "Python 3",
   "language": "python",
   "name": "python3"
  },
  "language_info": {
   "codemirror_mode": {
    "name": "ipython",
    "version": 3
   },
   "file_extension": ".py",
   "mimetype": "text/x-python",
   "name": "python",
   "nbconvert_exporter": "python",
   "pygments_lexer": "ipython3",
   "version": "3.12.0"
  }
 },
 "nbformat": 4,
 "nbformat_minor": 2
}
