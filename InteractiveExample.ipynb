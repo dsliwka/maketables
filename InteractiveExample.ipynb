{
 "cells": [
  {
   "cell_type": "code",
   "execution_count": 7,
   "id": "db9043cd",
   "metadata": {},
   "outputs": [
    {
     "name": "stdout",
     "output_type": "stream",
     "text": [
      "✅ MakeTables interactive module reloaded successfully!\n"
     ]
    }
   ],
   "source": [
    "# Reload the maketables module to get the latest changes\n",
    "import importlib\n",
    "import maketables.interactive\n",
    "importlib.reload(maketables.interactive)\n",
    "import maketables as mt\n",
    "importlib.reload(mt)\n",
    "print(\"✅ MakeTables interactive module reloaded successfully!\")"
   ]
  },
  {
   "cell_type": "markdown",
   "id": "2acaf4ad",
   "metadata": {},
   "source": [
    "# Interactive Regression Dashboard Example\n",
    "\n",
    "This notebook demonstrates how to use interactive dashboards in  MakeTables.\n",
    "\n",
    "## Usage:\n",
    "1. Import maketables and required packages\n",
    "2. Load your data\n",
    "3. Call `interactive_dtable()` to create a dashboard for descriptive statistics\n",
    "4. Call `interactive_feols()` to create a regression dashboard\n",
    "5. Interact with the widgets to explore different model specifications\n",
    "\n"
   ]
  },
  {
   "cell_type": "markdown",
   "id": "23f41df8",
   "metadata": {},
   "source": [
    "## Setup\n",
    "\n",
    "First, let's import the necessary packages and load our data:"
   ]
  },
  {
   "cell_type": "code",
   "execution_count": 2,
   "id": "79b2670f",
   "metadata": {},
   "outputs": [],
   "source": [
    "# Import maketables\n",
    "import maketables as mt"
   ]
  },
  {
   "cell_type": "code",
   "execution_count": 3,
   "id": "bf978f18",
   "metadata": {},
   "outputs": [],
   "source": [
    "# Load your data (here using a sample Stata dataset with the import_dta function that also stores variable labels)\n",
    "df = mt.import_dta(\"https://www.stata-press.com/data/r18/auto.dta\")"
   ]
  },
  {
   "cell_type": "markdown",
   "id": "4467d8ce",
   "metadata": {},
   "source": [
    "## Interactive Descriptive Statistics\n",
    "\n",
    "MakeTables also provides an interactive dashboard for exploring descriptive statistics with the `interactive_dtable()` function:"
   ]
  },
  {
   "cell_type": "code",
   "execution_count": 15,
   "id": "5b979338",
   "metadata": {},
   "outputs": [
    {
     "data": {
      "application/vnd.jupyter.widget-view+json": {
       "model_id": "a86813709e3c41e98ac50d2235309b93",
       "version_major": 2,
       "version_minor": 0
      },
      "text/plain": [
       "VBox(children=(HBox(children=(VBox(children=(HTML(value='<h4>Variables</h4>'), SelectMultiple(index=(0, 1, 5, …"
      ]
     },
     "metadata": {},
     "output_type": "display_data"
    }
   ],
   "source": [
    "# Create interactive descriptive statistics dashboard (no title - new default behavior)\n",
    "dtable_dashboard = mt.interactive_dtable(\n",
    "    data=df, \n",
    "    vars=['price', 'mpg', 'weight', 'length'],  # Initial variables to explore\n",
    "    show_code=True\n",
    ")"
   ]
  },
  {
   "cell_type": "markdown",
   "id": "051b147b",
   "metadata": {},
   "source": [
    "# Interactive Regressions\n"
   ]
  },
  {
   "cell_type": "code",
   "execution_count": 16,
   "id": "f124847a",
   "metadata": {},
   "outputs": [
    {
     "data": {
      "application/vnd.jupyter.widget-view+json": {
       "model_id": "90a611f26e6a44f6b0b641b47d685280",
       "version_major": 2,
       "version_minor": 0
      },
      "text/plain": [
       "VBox(children=(HBox(children=(VBox(children=(HTML(value='<h4>Variables</h4>'), SelectMultiple(index=(2, 6), la…"
      ]
     },
     "metadata": {},
     "output_type": "display_data"
    }
   ],
   "source": [
    "int_regression = mt.interactive_regression(\n",
    "    data=df,\n",
    "    formula=\"price ~ mpg + weight\"\n",
    "    # Default: show_code=False, title=None\n",
    ")"
   ]
  },
  {
   "cell_type": "code",
   "execution_count": 17,
   "id": "c42d6fd6",
   "metadata": {},
   "outputs": [
    {
     "data": {
      "application/vnd.jupyter.widget-view+json": {
       "model_id": "71a3becd0fa1454f9f3ad59601abbe90",
       "version_major": 2,
       "version_minor": 0
      },
      "text/plain": [
       "VBox(children=(HTML(value='<h3>🚗 Vehicle Price Analysis Dashboard</h3>'), HBox(children=(VBox(children=(HTML(v…"
      ]
     },
     "metadata": {},
     "output_type": "display_data"
    }
   ],
   "source": [
    "branded_regression = mt.interactive_regression(\n",
    "    data=df,\n",
    "    formula=\"price ~ mpg + weight\",\n",
    "    title=\"🚗 Vehicle Price Analysis Dashboard\",\n",
    "    show_code=True\n",
    ")"
   ]
  }
 ],
 "metadata": {
  "kernelspec": {
   "display_name": ".venv",
   "language": "python",
   "name": "python3"
  },
  "language_info": {
   "codemirror_mode": {
    "name": "ipython",
    "version": 3
   },
   "file_extension": ".py",
   "mimetype": "text/x-python",
   "name": "python",
   "nbconvert_exporter": "python",
   "pygments_lexer": "ipython3",
   "version": "3.12.0"
  }
 },
 "nbformat": 4,
 "nbformat_minor": 5
}
