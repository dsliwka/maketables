{
 "cells": [
  {
   "cell_type": "code",
   "execution_count": null,
   "id": "59368dfb",
   "metadata": {},
   "outputs": [],
   "source": [
    "import numpy as np\n",
    "import pandas as pd\n",
    "import pyfixest as pf\n",
    "from IPython.display import display, FileLink\n",
    "import pathlib, requests\n",
    "from tabout import MTable,  DTable, ETable, BTable, import_stata\n",
    "\n",
    "url = \"https://www.stata-press.com/data/r18/auto.dta\"\n",
    "dest = pathlib.Path(\"data/auto.dta\")\n",
    "dest.parent.mkdir(parents=True, exist_ok=True)\n",
    "\n",
    "with requests.get(url, stream=True) as r:\n",
    "    r.raise_for_status()\n",
    "    with open(dest, \"wb\") as f:\n",
    "        for chunk in r.iter_content(chunk_size=8192):\n",
    "            f.write(chunk)\n",
    "\n",
    "df, var_labels = import_stata(str(dest))  # updates MTable.DEFAULT_LABELS"
   ]
  }
 ],
 "metadata": {
  "language_info": {
   "name": "python"
  }
 },
 "nbformat": 4,
 "nbformat_minor": 5
}
